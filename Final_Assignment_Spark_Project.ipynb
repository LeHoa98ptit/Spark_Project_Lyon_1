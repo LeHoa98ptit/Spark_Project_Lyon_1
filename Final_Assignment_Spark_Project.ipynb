{
 "cells": [
  {
   "cell_type": "markdown",
   "id": "cc3d2444",
   "metadata": {},
   "source": [
    "# Analyzing New York City Taxi Data\n",
    "### Import the necessary libraries for data analysis and processing"
   ]
  },
  {
   "cell_type": "code",
   "execution_count": 1,
   "id": "9bce1b4f",
   "metadata": {},
   "outputs": [],
   "source": [
    "from pyspark.sql import SparkSession\n",
    "from pyspark.sql.functions import udf, countDistinct, lit, col, lead, lag, unix_timestamp\n",
    "from pyspark.sql.types import *\n",
    "from pyspark.sql.window import Window\n",
    "from shapely.geometry import Point, Polygon\n",
    "import json\n",
    "from shapely.geometry import shape\n",
    "from shapely import ops\n",
    "from shapely.ops import transform\n",
    "from shapely.geometry.polygon import Polygon\n",
    "from shapely.geometry.multipolygon import MultiPolygon\n",
    "from functools import partial\n",
    "import pyproj\n",
    "from matplotlib import pyplot as plt\n",
    "import warnings\n",
    "warnings.filterwarnings(\"ignore\")"
   ]
  },
  {
   "cell_type": "code",
   "execution_count": 2,
   "id": "fac324c9",
   "metadata": {},
   "outputs": [
    {
     "name": "stderr",
     "output_type": "stream",
     "text": [
      "23/10/23 20:42:28 WARN NativeCodeLoader: Unable to load native-hadoop library for your platform... using builtin-java classes where applicable\n",
      "Using Spark's default log4j profile: org/apache/spark/log4j-defaults.properties\n",
      "Setting default log level to \"WARN\".\n",
      "To adjust logging level use sc.setLogLevel(newLevel). For SparkR, use setLogLevel(newLevel).\n",
      "23/10/23 20:42:30 WARN Utils: Service 'SparkUI' could not bind on port 4040. Attempting port 4041.\n",
      "23/10/23 20:42:30 WARN Utils: Service 'SparkUI' could not bind on port 4041. Attempting port 4042.\n",
      "23/10/23 20:42:30 WARN Utils: Service 'SparkUI' could not bind on port 4042. Attempting port 4043.\n",
      "23/10/23 20:42:30 WARN Utils: Service 'SparkUI' could not bind on port 4043. Attempting port 4044.\n"
     ]
    }
   ],
   "source": [
    "# Initialize SparkSession\n",
    "spark = SparkSession.builder \\\n",
    "    .appName('NYC Taxi Data') \\\n",
    "    .getOrCreate()"
   ]
  },
  {
   "cell_type": "markdown",
   "id": "d27effed",
   "metadata": {},
   "source": [
    "## NYC Boroughs Dataset\n"
   ]
  },
  {
   "cell_type": "code",
   "execution_count": 3,
   "id": "ad8ae3ae",
   "metadata": {},
   "outputs": [],
   "source": [
    "# Path to county boundary GeoJSON file\n",
    "geojson_path = \"Data/nyc-boroughs.geojson\"\n",
    "\n",
    "# Read GeoJSON file\n",
    "with open(geojson_path, \"r\") as geojson_file:\n",
    "    geojson_data = json.load(geojson_file)"
   ]
  },
  {
   "cell_type": "markdown",
   "id": "6ec1b604",
   "metadata": {},
   "source": [
    "- Show data"
   ]
  },
  {
   "cell_type": "code",
   "execution_count": 4,
   "id": "31d9037c",
   "metadata": {},
   "outputs": [
    {
     "data": {
      "text/plain": [
       "{'type': 'Feature',\n",
       " 'id': 0,\n",
       " 'properties': {'boroughCode': 5,\n",
       "  'borough': 'Staten Island',\n",
       "  '@id': 'http://nyc.pediacities.com/Resource/Borough/Staten_Island'},\n",
       " 'geometry': {'type': 'Polygon',\n",
       "  'coordinates': [[[-74.05050806403247, 40.566422034160816],\n",
       "    [-74.04998352562575, 40.56639592492827],\n",
       "    [-74.04931640362088, 40.56588774778044],\n",
       "    [-74.04923629842045, 40.5653627363681],\n",
       "    [-74.05002620158643, 40.565318180621134],\n",
       "    [-74.05090601705089, 40.5660943421306],\n",
       "    [-74.05067916748614, 40.5663108457364],\n",
       "    [-74.05107159803778, 40.5667224933978],\n",
       "    [-74.05050806403247, 40.566422034160816]]]}}"
      ]
     },
     "execution_count": 4,
     "metadata": {},
     "output_type": "execute_result"
    }
   ],
   "source": [
    "geojson_data[\"features\"][0]"
   ]
  },
  {
   "cell_type": "code",
   "execution_count": 5,
   "id": "d51818e5",
   "metadata": {},
   "outputs": [
    {
     "data": {
      "text/plain": [
       "104"
      ]
     },
     "execution_count": 5,
     "metadata": {},
     "output_type": "execute_result"
    }
   ],
   "source": [
    "len(geojson_data[\"features\"])"
   ]
  },
  {
   "cell_type": "code",
   "execution_count": 6,
   "id": "f9f17061",
   "metadata": {},
   "outputs": [
    {
     "name": "stdout",
     "output_type": "stream",
     "text": [
      "Brooklyn - 21\n",
      "Staten Island - 4\n",
      "Bronx - 30\n",
      "Manhattan - 29\n",
      "Queens - 20\n"
     ]
    }
   ],
   "source": [
    "boroughs = []\n",
    "for feature in geojson_data[\"features\"]: \n",
    "    boroughs.append(feature[\"properties\"][\"borough\"])\n",
    "unique_values = set(boroughs)\n",
    "for value in unique_values: \n",
    "    print(f\"{value} - {boroughs.count(value)}\")\n",
    "    "
   ]
  },
  {
   "cell_type": "markdown",
   "id": "f899ca69",
   "metadata": {},
   "source": [
    "### Basic information about the attributes of data: \n",
    "- Geometry: Geometry represents geometric objects in space, including the longitude and latitude points of areas within New York City\n",
    "- boroughCode: Code of borough\n",
    "- Borough: Name of borough\n",
    "- This dataset includes 104 zones corresponding to the 5 boroughs of New York City: \n",
    "    - which are:\n",
    "    - Manhattan - 29 zones\n",
    "    - Bronx - 30 zones\n",
    "    - Brooklyn - 21 zones\n",
    "    - Queens - 20 zones\n",
    "    - Staten Island - 4 zones\n",
    "\n",
    "### Broadcast it to the different workers"
   ]
  },
  {
   "cell_type": "code",
   "execution_count": 7,
   "id": "438f0916",
   "metadata": {},
   "outputs": [],
   "source": [
    "# Broadcast dữ liệu GeoJSON đến các workers\n",
    "broadcasted_geojson = spark.sparkContext.broadcast(geojson_data)\n",
    "data_geojson = broadcasted_geojson.value\n",
    "features = data_geojson[\"features\"]"
   ]
  },
  {
   "cell_type": "markdown",
   "id": "888ac2ef",
   "metadata": {},
   "source": [
    "### Explore data"
   ]
  },
  {
   "cell_type": "code",
   "execution_count": 8,
   "id": "72d10201",
   "metadata": {},
   "outputs": [
    {
     "data": {
      "text/plain": [
       "{'type': 'Feature',\n",
       " 'id': 0,\n",
       " 'properties': {'boroughCode': 5,\n",
       "  'borough': 'Staten Island',\n",
       "  '@id': 'http://nyc.pediacities.com/Resource/Borough/Staten_Island'},\n",
       " 'geometry': {'type': 'Polygon',\n",
       "  'coordinates': [[[-74.05050806403247, 40.566422034160816],\n",
       "    [-74.04998352562575, 40.56639592492827],\n",
       "    [-74.04931640362088, 40.56588774778044],\n",
       "    [-74.04923629842045, 40.5653627363681],\n",
       "    [-74.05002620158643, 40.565318180621134],\n",
       "    [-74.05090601705089, 40.5660943421306],\n",
       "    [-74.05067916748614, 40.5663108457364],\n",
       "    [-74.05107159803778, 40.5667224933978],\n",
       "    [-74.05050806403247, 40.566422034160816]]]}}"
      ]
     },
     "execution_count": 8,
     "metadata": {},
     "output_type": "execute_result"
    }
   ],
   "source": [
    "first_check = features[0]\n",
    "first_check"
   ]
  },
  {
   "cell_type": "code",
   "execution_count": 9,
   "id": "57962c1e",
   "metadata": {},
   "outputs": [
    {
     "name": "stdout",
     "output_type": "stream",
     "text": [
      "Staten Island\n"
     ]
    },
    {
     "data": {
      "image/svg+xml": [
       "<svg xmlns=\"http://www.w3.org/2000/svg\" xmlns:xlink=\"http://www.w3.org/1999/xlink\" width=\"100.0\" height=\"100.0\" viewBox=\"-74.05114501002247 40.56524476863644 0.001982123586699913 0.0015511367460518954\" preserveAspectRatio=\"xMinYMin meet\"><g transform=\"matrix(1,0,0,-1,0,81.13204067401892)\"><path fill-rule=\"evenodd\" fill=\"#66cc99\" stroke=\"#555555\" stroke-width=\"3.964247173399826e-05\" opacity=\"0.6\" d=\"M -74.05050806403247,40.566422034160816 L -74.04998352562575,40.56639592492827 L -74.04931640362088,40.56588774778044 L -74.04923629842045,40.5653627363681 L -74.05002620158643,40.565318180621134 L -74.05090601705089,40.5660943421306 L -74.05067916748614,40.5663108457364 L -74.05107159803778,40.5667224933978 L -74.05050806403247,40.566422034160816 z\" /></g></svg>"
      ],
      "text/plain": [
       "<POLYGON ((-74.051 40.566, -74.05 40.566, -74.049 40.566, -74.049 40.565, -7...>"
      ]
     },
     "execution_count": 9,
     "metadata": {},
     "output_type": "execute_result"
    }
   ],
   "source": [
    "# Convert geometry to shapely object\n",
    "v1 = shape(first_check[\"geometry\"])\n",
    "print(first_check[\"properties\"][\"borough\"])\n",
    "v1"
   ]
  },
  {
   "cell_type": "markdown",
   "id": "6439fb63",
   "metadata": {},
   "source": [
    "### Sorting data \n",
    "- We sort the data in descending order of the total area of each borough. \n",
    "- Then, for each borough, we further sort the zones in descending order of the area of each zone."
   ]
  },
  {
   "cell_type": "code",
   "execution_count": 10,
   "id": "3128851f",
   "metadata": {},
   "outputs": [
    {
     "name": "stdout",
     "output_type": "stream",
     "text": [
      "Borough Code: 4, Total Area: 283354532.24758565\n",
      "Borough:  Queens\n",
      "Borough Code: 3, Total Area: 182049468.87353534\n",
      "Borough:  Brooklyn\n",
      "Borough Code: 5, Total Area: 150892754.55717745\n",
      "Borough:  Staten Island\n",
      "Borough Code: 2, Total Area: 110294139.76927057\n",
      "Borough:  Bronx\n",
      "Borough Code: 1, Total Area: 59119007.27194083\n",
      "Borough:  Manhattan\n"
     ]
    }
   ],
   "source": [
    "# Create a dictionary to store the total area of each borough\n",
    "borough_areas = {}\n",
    "\n",
    "# Iterate through the polygons representing boroughs\n",
    "for feature in features:\n",
    "    borough_code = feature['properties']['boroughCode']\n",
    "    polygon = shape(feature['geometry'])\n",
    "    geom_area = ops.transform(\n",
    "    partial(\n",
    "        pyproj.transform,\n",
    "        pyproj.Proj(init='EPSG:4326'),\n",
    "        pyproj.Proj(\n",
    "            proj='aea',\n",
    "            lat_1=polygon.bounds[1],\n",
    "            lat_2=polygon.bounds[3]\n",
    "        )\n",
    "    ),\n",
    "    polygon)\n",
    "    area = geom_area.area\n",
    "    # If the borough is not in the dictionary, create a new key\n",
    "    if borough_code not in borough_areas:\n",
    "        borough_areas[borough_code] = area\n",
    "    else:\n",
    "        # Add the new area to the current area of the borough\n",
    "        borough_areas[borough_code] += area\n",
    "\n",
    "# Sort the boroughs in descending order of total area\n",
    "sorted_boroughs = sorted(borough_areas.items(), key=lambda x: x[1], reverse=True)\n",
    "\n",
    "# List new features after sort\n",
    "new_features = []\n",
    "\n",
    "# Iterate through each sorted borough\n",
    "for borough_code, total_area in sorted_boroughs:\n",
    "    print(f\"Borough Code: {borough_code}, Total Area: {total_area}\")\n",
    "\n",
    "    # Sort the geometries within the borough by decreasing area.\n",
    "    borough_features = [feature for feature in geojson_data['features'] if feature['properties']['boroughCode'] == borough_code]\n",
    "    print(\"Borough: \", borough_features[0][\"properties\"][\"borough\"])\n",
    "    \n",
    "    sorted_borough_features = sorted(borough_features, key=lambda x: shape(x['geometry']).area, reverse=True)\n",
    "    new_features.extend(sorted_borough_features)\n"
   ]
  },
  {
   "cell_type": "markdown",
   "id": "98044b9f",
   "metadata": {},
   "source": [
    "### The results obtained are as follows: \n",
    "- The largest is Queens borough with a total area of 283354532.24758565\n",
    "- Then the borough of Brooklyn with total area: 182049468.87353534\n",
    "- The Staten Island borough with total area: 150892754.55717745\n",
    "- The Bronx borough with total area: 110294139.76927057\n",
    "- The Manhattan borough with total area: 59119007.27194083\n",
    "\n",
    "#### We now have a new feature - 'NYC_boroughs' after sorting by borough area and within each borough, sorting by the correct zone (geometry)"
   ]
  },
  {
   "cell_type": "markdown",
   "id": "3a06ffd6",
   "metadata": {},
   "source": [
    "## Sample NYC Data\n",
    "\n",
    "#### Read data and basic information of data"
   ]
  },
  {
   "cell_type": "code",
   "execution_count": 11,
   "id": "6cf505da",
   "metadata": {},
   "outputs": [
    {
     "name": "stderr",
     "output_type": "stream",
     "text": [
      "                                                                                \r"
     ]
    },
    {
     "name": "stdout",
     "output_type": "stream",
     "text": [
      "-RECORD 0----------------------------------\n",
      " medallion          | 89D227B655E5C82AE... \n",
      " hack_license       | BA96DE419E711691B... \n",
      " vendor_id          | CMT                  \n",
      " rate_code          | 1                    \n",
      " store_and_fwd_flag | N                    \n",
      " pickup_datetime    | 01-01-13 15:11       \n",
      " dropoff_datetime   | 01-01-13 15:18       \n",
      " passenger_count    | 4                    \n",
      " pickup_longitude   | -73.978165           \n",
      " pickup_latitude    | 40.757977            \n",
      " dropoff_longitude  | -73.989838           \n",
      " dropoff_latitude   | 40.751171            \n",
      "-RECORD 1----------------------------------\n",
      " medallion          | 0BD7C8F5BA12B88E0... \n",
      " hack_license       | 9FD8F69F0804BDB55... \n",
      " vendor_id          | CMT                  \n",
      " rate_code          | 1                    \n",
      " store_and_fwd_flag | N                    \n",
      " pickup_datetime    | 06-01-13 0:18        \n",
      " dropoff_datetime   | 06-01-13 0:22        \n",
      " passenger_count    | 1                    \n",
      " pickup_longitude   | -74.006683           \n",
      " pickup_latitude    | 40.731781            \n",
      " dropoff_longitude  | -73.994499           \n",
      " dropoff_latitude   | 40.75066             \n",
      "-RECORD 2----------------------------------\n",
      " medallion          | 0BD7C8F5BA12B88E0... \n",
      " hack_license       | 9FD8F69F0804BDB55... \n",
      " vendor_id          | CMT                  \n",
      " rate_code          | 1                    \n",
      " store_and_fwd_flag | N                    \n",
      " pickup_datetime    | 05-01-13 18:49       \n",
      " dropoff_datetime   | 05-01-13 18:54       \n",
      " passenger_count    | 1                    \n",
      " pickup_longitude   | -74.004707           \n",
      " pickup_latitude    | 40.73777             \n",
      " dropoff_longitude  | -74.009834           \n",
      " dropoff_latitude   | 40.726002            \n",
      "-RECORD 3----------------------------------\n",
      " medallion          | DFD2202EE08F7A8DC... \n",
      " hack_license       | 51EE87E3205C985EF... \n",
      " vendor_id          | CMT                  \n",
      " rate_code          | 1                    \n",
      " store_and_fwd_flag | N                    \n",
      " pickup_datetime    | 07-01-13 23:54       \n",
      " dropoff_datetime   | 07-01-13 23:58       \n",
      " passenger_count    | 2                    \n",
      " pickup_longitude   | -73.974602           \n",
      " pickup_latitude    | 40.759945            \n",
      " dropoff_longitude  | -73.984734           \n",
      " dropoff_latitude   | 40.759388            \n",
      "-RECORD 4----------------------------------\n",
      " medallion          | DFD2202EE08F7A8DC... \n",
      " hack_license       | 51EE87E3205C985EF... \n",
      " vendor_id          | CMT                  \n",
      " rate_code          | 1                    \n",
      " store_and_fwd_flag | N                    \n",
      " pickup_datetime    | 07-01-13 23:25       \n",
      " dropoff_datetime   | 07-01-13 23:34       \n",
      " passenger_count    | 1                    \n",
      " pickup_longitude   | -73.97625            \n",
      " pickup_latitude    | 40.748528            \n",
      " dropoff_longitude  | -74.002586           \n",
      " dropoff_latitude   | 40.747868            \n",
      "only showing top 5 rows\n",
      "\n"
     ]
    }
   ],
   "source": [
    "df_taxi = spark.read.option(\"header\", \"true\").csv('Data/Sample NYC Data.csv')\n",
    "# Show data \n",
    "df_taxi.show(5, truncate=True, vertical=True)"
   ]
  },
  {
   "cell_type": "code",
   "execution_count": 12,
   "id": "95fa9b7d",
   "metadata": {},
   "outputs": [
    {
     "name": "stdout",
     "output_type": "stream",
     "text": [
      "Number of data records:  99999\n"
     ]
    }
   ],
   "source": [
    "# Number of data records\n",
    "count_records = df_taxi.count()\n",
    "print(\"Number of data records: \", count_records)"
   ]
  },
  {
   "cell_type": "code",
   "execution_count": 13,
   "id": "8f1bc45b",
   "metadata": {},
   "outputs": [
    {
     "name": "stdout",
     "output_type": "stream",
     "text": [
      "root\n",
      " |-- medallion: string (nullable = true)\n",
      " |-- hack_license: string (nullable = true)\n",
      " |-- vendor_id: string (nullable = true)\n",
      " |-- rate_code: string (nullable = true)\n",
      " |-- store_and_fwd_flag: string (nullable = true)\n",
      " |-- pickup_datetime: string (nullable = true)\n",
      " |-- dropoff_datetime: string (nullable = true)\n",
      " |-- passenger_count: string (nullable = true)\n",
      " |-- pickup_longitude: string (nullable = true)\n",
      " |-- pickup_latitude: string (nullable = true)\n",
      " |-- dropoff_longitude: string (nullable = true)\n",
      " |-- dropoff_latitude: string (nullable = true)\n",
      "\n"
     ]
    }
   ],
   "source": [
    "df_taxi.printSchema()"
   ]
  },
  {
   "cell_type": "markdown",
   "id": "aa642cc4",
   "metadata": {},
   "source": [
    "### Basic information about data\n",
    "- The taxi dataset used in this project is a subset of taxi trip data in NYC. \n",
    "- This dataset consists of 99999 taxi trips, each with 12 attributes\n",
    "    - **medallion**: The cab (a hashed version of the medallion number)\n",
    "    - **hack_license**: The driver (a hashed version of the hack license\n",
    "    - **vendor_id**: a code indicating the provider associated with the trip record\n",
    "    - **rate_code**: A rate code is a numeric code or an option code used to determine the pricing structure for a taxi trip\n",
    "    - **store_and_fwd_flag**: This flag indicates whether the trip record was held in vehicle memory before sending to the vendor because the vehicle did not have a connection to the server — Y=store and forward; N=not a store and forward trip.\n",
    "    - **pickup_datetime**: date and time when the meter was engaged\n",
    "    - **dropoff_datetime**: date and time when the meter was disengaged\n",
    "    - **passenger_count**: the number of passengers in the vehicle (driver entered value)\n",
    "    - **pickup_longitude**: the longitude where the meter was engaged\n",
    "    - **pickup_latitude**: the latitude where the meter was engaged\n",
    "    - **dropoff_longitude**: the longitude where the meter was disengaged\n",
    "    - **dropoff_latitude**: the latitude where the meter was disengaged\n",
    "\n",
    "### Process datetime data of columns: \n",
    "    - pickup_datetime\n",
    "    - dropoff_date\n",
    "- Used the unix_timestamp function to convert the pickup_datetime and dropoff_datetime into milliseconds since epoch time of Unix systems\n"
   ]
  },
  {
   "cell_type": "code",
   "execution_count": 14,
   "id": "0330e34f",
   "metadata": {},
   "outputs": [],
   "source": [
    "# convert datatime into milliseconds since epoch using unix_timestamp\n",
    "data_taxi = df_taxi.withColumn(\"pickup_ts\", lit(None).cast(LongType()))\n",
    "data_taxi = data_taxi.withColumn(\"dropoff_ts\", lit(None).cast(LongType()))\n",
    "\n",
    "data_taxi = data_taxi.withColumn(\"pickup_ts\", unix_timestamp(col(\"pickup_datetime\"), \"dd-MM-yy H:mm\").cast(LongType())*1000)\n",
    "data_taxi = data_taxi.withColumn(\"dropoff_ts\", unix_timestamp(col(\"dropoff_datetime\"), \"dd-MM-yy H:mm\").cast(LongType())*1000)\n",
    "\n",
    "# Compute duration\n",
    "data_taxi = data_taxi.withColumn(\"duration\", (col(\"dropoff_ts\") - col(\"pickup_ts\")))"
   ]
  },
  {
   "cell_type": "code",
   "execution_count": 15,
   "id": "53cb2268",
   "metadata": {},
   "outputs": [
    {
     "name": "stdout",
     "output_type": "stream",
     "text": [
      "-RECORD 0----------------------------------\n",
      " medallion          | 89D227B655E5C82AE... \n",
      " hack_license       | BA96DE419E711691B... \n",
      " vendor_id          | CMT                  \n",
      " rate_code          | 1                    \n",
      " store_and_fwd_flag | N                    \n",
      " pickup_datetime    | 01-01-13 15:11       \n",
      " dropoff_datetime   | 01-01-13 15:18       \n",
      " passenger_count    | 4                    \n",
      " pickup_longitude   | -73.978165           \n",
      " pickup_latitude    | 40.757977            \n",
      " dropoff_longitude  | -73.989838           \n",
      " dropoff_latitude   | 40.751171            \n",
      " pickup_ts          | 1357053060000        \n",
      " dropoff_ts         | 1357053480000        \n",
      " duration           | 420000               \n",
      "-RECORD 1----------------------------------\n",
      " medallion          | 0BD7C8F5BA12B88E0... \n",
      " hack_license       | 9FD8F69F0804BDB55... \n",
      " vendor_id          | CMT                  \n",
      " rate_code          | 1                    \n",
      " store_and_fwd_flag | N                    \n",
      " pickup_datetime    | 06-01-13 0:18        \n",
      " dropoff_datetime   | 06-01-13 0:22        \n",
      " passenger_count    | 1                    \n",
      " pickup_longitude   | -74.006683           \n",
      " pickup_latitude    | 40.731781            \n",
      " dropoff_longitude  | -73.994499           \n",
      " dropoff_latitude   | 40.75066             \n",
      " pickup_ts          | 1357431480000        \n",
      " dropoff_ts         | 1357431720000        \n",
      " duration           | 240000               \n",
      "-RECORD 2----------------------------------\n",
      " medallion          | 0BD7C8F5BA12B88E0... \n",
      " hack_license       | 9FD8F69F0804BDB55... \n",
      " vendor_id          | CMT                  \n",
      " rate_code          | 1                    \n",
      " store_and_fwd_flag | N                    \n",
      " pickup_datetime    | 05-01-13 18:49       \n",
      " dropoff_datetime   | 05-01-13 18:54       \n",
      " passenger_count    | 1                    \n",
      " pickup_longitude   | -74.004707           \n",
      " pickup_latitude    | 40.73777             \n",
      " dropoff_longitude  | -74.009834           \n",
      " dropoff_latitude   | 40.726002            \n",
      " pickup_ts          | 1357411740000        \n",
      " dropoff_ts         | 1357412040000        \n",
      " duration           | 300000               \n",
      "-RECORD 3----------------------------------\n",
      " medallion          | DFD2202EE08F7A8DC... \n",
      " hack_license       | 51EE87E3205C985EF... \n",
      " vendor_id          | CMT                  \n",
      " rate_code          | 1                    \n",
      " store_and_fwd_flag | N                    \n",
      " pickup_datetime    | 07-01-13 23:54       \n",
      " dropoff_datetime   | 07-01-13 23:58       \n",
      " passenger_count    | 2                    \n",
      " pickup_longitude   | -73.974602           \n",
      " pickup_latitude    | 40.759945            \n",
      " dropoff_longitude  | -73.984734           \n",
      " dropoff_latitude   | 40.759388            \n",
      " pickup_ts          | 1357602840000        \n",
      " dropoff_ts         | 1357603080000        \n",
      " duration           | 240000               \n",
      "-RECORD 4----------------------------------\n",
      " medallion          | DFD2202EE08F7A8DC... \n",
      " hack_license       | 51EE87E3205C985EF... \n",
      " vendor_id          | CMT                  \n",
      " rate_code          | 1                    \n",
      " store_and_fwd_flag | N                    \n",
      " pickup_datetime    | 07-01-13 23:25       \n",
      " dropoff_datetime   | 07-01-13 23:34       \n",
      " passenger_count    | 1                    \n",
      " pickup_longitude   | -73.97625            \n",
      " pickup_latitude    | 40.748528            \n",
      " dropoff_longitude  | -74.002586           \n",
      " dropoff_latitude   | 40.747868            \n",
      " pickup_ts          | 1357601100000        \n",
      " dropoff_ts         | 1357601640000        \n",
      " duration           | 540000               \n",
      "only showing top 5 rows\n",
      "\n"
     ]
    }
   ],
   "source": [
    "data_taxi.show(5, truncate=True, vertical=True)"
   ]
  },
  {
   "cell_type": "markdown",
   "id": "192af9e0",
   "metadata": {},
   "source": [
    "###  Perform a search for the borough names of pickup and drop-off points \n",
    "- We define a user-defined function (UDFs) named 'get_borough' to perform this. \n",
    "- For locations whose names are not found in the NYC boroughs, they will be designated as Unknown\n"
   ]
  },
  {
   "cell_type": "code",
   "execution_count": 17,
   "id": "34f363d5",
   "metadata": {},
   "outputs": [
    {
     "name": "stderr",
     "output_type": "stream",
     "text": [
      "[Stage 6:>                                                          (0 + 1) / 1]\r"
     ]
    },
    {
     "name": "stdout",
     "output_type": "stream",
     "text": [
      "-RECORD 0----------------------------------\n",
      " medallion          | 89D227B655E5C82AE... \n",
      " hack_license       | BA96DE419E711691B... \n",
      " vendor_id          | CMT                  \n",
      " rate_code          | 1                    \n",
      " store_and_fwd_flag | N                    \n",
      " pickup_datetime    | 01-01-13 15:11       \n",
      " dropoff_datetime   | 01-01-13 15:18       \n",
      " passenger_count    | 4                    \n",
      " pickup_longitude   | -73.978165           \n",
      " pickup_latitude    | 40.757977            \n",
      " dropoff_longitude  | -73.989838           \n",
      " dropoff_latitude   | 40.751171            \n",
      " pickup_ts          | 1357053060000        \n",
      " dropoff_ts         | 1357053480000        \n",
      " duration           | 420000               \n",
      " pickup_borough     | Manhattan            \n",
      " dropoff_borough    | Manhattan            \n",
      "-RECORD 1----------------------------------\n",
      " medallion          | 0BD7C8F5BA12B88E0... \n",
      " hack_license       | 9FD8F69F0804BDB55... \n",
      " vendor_id          | CMT                  \n",
      " rate_code          | 1                    \n",
      " store_and_fwd_flag | N                    \n",
      " pickup_datetime    | 06-01-13 0:18        \n",
      " dropoff_datetime   | 06-01-13 0:22        \n",
      " passenger_count    | 1                    \n",
      " pickup_longitude   | -74.006683           \n",
      " pickup_latitude    | 40.731781            \n",
      " dropoff_longitude  | -73.994499           \n",
      " dropoff_latitude   | 40.75066             \n",
      " pickup_ts          | 1357431480000        \n",
      " dropoff_ts         | 1357431720000        \n",
      " duration           | 240000               \n",
      " pickup_borough     | Manhattan            \n",
      " dropoff_borough    | Manhattan            \n",
      "-RECORD 2----------------------------------\n",
      " medallion          | 0BD7C8F5BA12B88E0... \n",
      " hack_license       | 9FD8F69F0804BDB55... \n",
      " vendor_id          | CMT                  \n",
      " rate_code          | 1                    \n",
      " store_and_fwd_flag | N                    \n",
      " pickup_datetime    | 05-01-13 18:49       \n",
      " dropoff_datetime   | 05-01-13 18:54       \n",
      " passenger_count    | 1                    \n",
      " pickup_longitude   | -74.004707           \n",
      " pickup_latitude    | 40.73777             \n",
      " dropoff_longitude  | -74.009834           \n",
      " dropoff_latitude   | 40.726002            \n",
      " pickup_ts          | 1357411740000        \n",
      " dropoff_ts         | 1357412040000        \n",
      " duration           | 300000               \n",
      " pickup_borough     | Manhattan            \n",
      " dropoff_borough    | Manhattan            \n",
      "only showing top 3 rows\n",
      "\n"
     ]
    },
    {
     "name": "stderr",
     "output_type": "stream",
     "text": [
      "                                                                                \r"
     ]
    }
   ],
   "source": [
    "# The function to find the name of a borough for a given latitude and longitude.\n",
    "@udf(StringType())\n",
    "def get_borough(longitude, latitude):\n",
    "    point = Point(longitude, latitude)\n",
    "    borough = \"Unknown\"\n",
    "    \n",
    "    for feature in new_features:\n",
    "        polygon = shape(feature[\"geometry\"])\n",
    "        if polygon.contains(point):\n",
    "            borough = feature[\"properties\"][\"borough\"]\n",
    "    return borough\n",
    "\n",
    "# Find the borough for pickup location\n",
    "data_new = data_taxi.withColumn(\"pickup_borough\", get_borough(\n",
    "    col(\"pickup_longitude\"), col(\"pickup_latitude\")\n",
    "))\n",
    "\n",
    "# Find the borough for dropoff location\n",
    "data_new = data_new.withColumn(\"dropoff_borough\", get_borough(\n",
    "    col(\"dropoff_longitude\"), col(\"dropoff_latitude\")\n",
    "))\n",
    "\n",
    "# Show result\n",
    "data_new.show(3, truncate=True, vertical=True)"
   ]
  },
  {
   "cell_type": "markdown",
   "id": "df990570",
   "metadata": {},
   "source": [
    "### Data Cleaning\n",
    "\n",
    "#### Check the null values\n",
    "- Check the null values for each column to determine how many missing values are in each column"
   ]
  },
  {
   "cell_type": "code",
   "execution_count": 19,
   "id": "0c36f5ac",
   "metadata": {},
   "outputs": [
    {
     "name": "stdout",
     "output_type": "stream",
     "text": [
      "Number of null values in medallion column: 0\n"
     ]
    },
    {
     "name": "stderr",
     "output_type": "stream",
     "text": [
      "                                                                                \r"
     ]
    },
    {
     "name": "stdout",
     "output_type": "stream",
     "text": [
      "Number of null values in hack_license column: 0\n",
      "Number of null values in vendor_id column: 0\n",
      "Number of null values in rate_code column: 0\n",
      "Number of null values in store_and_fwd_flag column: 99626\n",
      "Number of null values in pickup_datetime column: 0\n",
      "Number of null values in dropoff_datetime column: 0\n",
      "Number of null values in passenger_count column: 0\n",
      "Number of null values in pickup_longitude column: 0\n",
      "Number of null values in pickup_latitude column: 0\n",
      "Number of null values in dropoff_longitude column: 0\n",
      "Number of null values in dropoff_latitude column: 0\n",
      "Number of null values in pickup_ts column: 0\n",
      "Number of null values in dropoff_ts column: 0\n",
      "Number of null values in duration column: 0\n"
     ]
    },
    {
     "name": "stderr",
     "output_type": "stream",
     "text": [
      "                                                                                \r"
     ]
    },
    {
     "name": "stdout",
     "output_type": "stream",
     "text": [
      "Number of null values in pickup_borough column: 0\n"
     ]
    },
    {
     "name": "stderr",
     "output_type": "stream",
     "text": [
      "[Stage 71:===========================================>              (3 + 1) / 4]\r"
     ]
    },
    {
     "name": "stdout",
     "output_type": "stream",
     "text": [
      "Number of null values in dropoff_borough column: 0\n"
     ]
    },
    {
     "name": "stderr",
     "output_type": "stream",
     "text": [
      "                                                                                \r"
     ]
    }
   ],
   "source": [
    "columns = data_new.columns\n",
    "for column in columns: \n",
    "    check_null = data_new.filter(data_new[column].isNull()).count()\n",
    "    print(f\"Number of null values in {column} column: {check_null}\")"
   ]
  },
  {
   "cell_type": "markdown",
   "id": "53dfc321",
   "metadata": {},
   "source": [
    "- Most of the data in column 'store_and_fwd_flag' is missing, so we decided to drop this column."
   ]
  },
  {
   "cell_type": "code",
   "execution_count": 21,
   "id": "be78b6fb",
   "metadata": {},
   "outputs": [
    {
     "name": "stdout",
     "output_type": "stream",
     "text": [
      "root\n",
      " |-- medallion: string (nullable = true)\n",
      " |-- hack_license: string (nullable = true)\n",
      " |-- vendor_id: string (nullable = true)\n",
      " |-- rate_code: string (nullable = true)\n",
      " |-- pickup_datetime: string (nullable = true)\n",
      " |-- dropoff_datetime: string (nullable = true)\n",
      " |-- passenger_count: string (nullable = true)\n",
      " |-- pickup_longitude: string (nullable = true)\n",
      " |-- pickup_latitude: string (nullable = true)\n",
      " |-- dropoff_longitude: string (nullable = true)\n",
      " |-- dropoff_latitude: string (nullable = true)\n",
      " |-- pickup_ts: long (nullable = true)\n",
      " |-- dropoff_ts: long (nullable = true)\n",
      " |-- duration: long (nullable = true)\n",
      " |-- pickup_borough: string (nullable = true)\n",
      " |-- dropoff_borough: string (nullable = true)\n",
      "\n"
     ]
    }
   ],
   "source": [
    "data_new = data_new.drop(\"store_and_fwd_flag\")\n",
    "data_new.printSchema()"
   ]
  },
  {
   "cell_type": "markdown",
   "id": "248b5c4e",
   "metadata": {},
   "source": [
    "#### Check duplicates"
   ]
  },
  {
   "cell_type": "code",
   "execution_count": 24,
   "id": "efc0e491",
   "metadata": {},
   "outputs": [
    {
     "name": "stderr",
     "output_type": "stream",
     "text": [
      "                                                                                \r"
     ]
    },
    {
     "ename": "TypeError",
     "evalue": "unsupported operand type(s) for -: 'method' and 'int'",
     "output_type": "error",
     "traceback": [
      "\u001b[0;31m---------------------------------------------------------------------------\u001b[0m",
      "\u001b[0;31mTypeError\u001b[0m                                 Traceback (most recent call last)",
      "Cell \u001b[0;32mIn[24], line 1\u001b[0m\n\u001b[0;32m----> 1\u001b[0m \u001b[38;5;28mprint\u001b[39m(\u001b[38;5;124mf\u001b[39m\u001b[38;5;124m\"\u001b[39m\u001b[38;5;124mNumber of duplicate records: \u001b[39m\u001b[38;5;132;01m{\u001b[39;00m(data_new\u001b[38;5;241m.\u001b[39mcount)\u001b[38;5;250m \u001b[39m\u001b[38;5;241m-\u001b[39m\u001b[38;5;250m \u001b[39m(data_new\u001b[38;5;241m.\u001b[39mdistinct()\u001b[38;5;241m.\u001b[39mcount())\u001b[38;5;132;01m}\u001b[39;00m\u001b[38;5;124m\"\u001b[39m)\n",
      "\u001b[0;31mTypeError\u001b[0m: unsupported operand type(s) for -: 'method' and 'int'"
     ]
    }
   ],
   "source": [
    "data_new.distinct().count()"
   ]
  },
  {
   "cell_type": "markdown",
   "id": "6995b7c9",
   "metadata": {},
   "source": [
    "### Check columns: \n",
    "- rate_code\n",
    "- vendor_id\n",
    "- passenger_count"
   ]
  },
  {
   "cell_type": "code",
   "execution_count": 25,
   "id": "bc73d5b8",
   "metadata": {},
   "outputs": [
    {
     "data": {
      "image/png": "[encoded data removed]",
      "text/plain": [
       "<Figure size 1500x600 with 3 Axes>"
      ]
     },
     "metadata": {},
     "output_type": "display_data"
    }
   ],
   "source": [
    "checking_columns = [\"rate_code\", \"vendor_id\", \"passenger_count\"]\n",
    "fig, axs = plt.subplots(nrows=1, ncols=3, figsize=(15, 6))\n",
    "plt.subplots_adjust(hspace=0.5)\n",
    "\n",
    "for column, ax in zip(checking_columns, axs.ravel()):\n",
    "    check_1 = data_new.groupBy(column).count().toPandas()\n",
    "    check_1 = check_1.sort_values(by=column)\n",
    "    #print(check_1)\n",
    "    \n",
    "    ax.bar(check_1[column], check_1[\"count\"])\n",
    "    ax.set_xlabel(column)\n",
    "    ax.set_title(f\"{column} Distribution\")"
   ]
  },
  {
   "cell_type": "markdown",
   "id": "0eb81b61",
   "metadata": {},
   "source": [
    "- Each taxi, when performing a trip, must have one or more passengers. \n",
    "- Therefore we check and remove records with less than 1 passenger (namely 0)\n"
   ]
  },
  {
   "cell_type": "code",
   "execution_count": 26,
   "id": "06ce762d",
   "metadata": {},
   "outputs": [],
   "source": [
    "data_new = data_new.filter(data_taxi[\"passenger_count\"] > 0)"
   ]
  },
  {
   "cell_type": "markdown",
   "id": "0eb2ba89",
   "metadata": {},
   "source": [
    "#### Remove records with pickup and drop-off locations not within the 5 boroughs of NYC (Unknown)"
   ]
  },
  {
   "cell_type": "code",
   "execution_count": 27,
   "id": "e3643665",
   "metadata": {},
   "outputs": [
    {
     "name": "stderr",
     "output_type": "stream",
     "text": [
      "[Stage 85:>                                                         (0 + 1) / 1]\r"
     ]
    },
    {
     "name": "stdout",
     "output_type": "stream",
     "text": [
      "-RECORD 0---------------------------------\n",
      " medallion         | 89D227B655E5C82AE... \n",
      " hack_license      | BA96DE419E711691B... \n",
      " vendor_id         | CMT                  \n",
      " rate_code         | 1                    \n",
      " pickup_datetime   | 01-01-13 15:11       \n",
      " dropoff_datetime  | 01-01-13 15:18       \n",
      " passenger_count   | 4                    \n",
      " pickup_longitude  | -73.978165           \n",
      " pickup_latitude   | 40.757977            \n",
      " dropoff_longitude | -73.989838           \n",
      " dropoff_latitude  | 40.751171            \n",
      " pickup_ts         | 1357053060000        \n",
      " dropoff_ts        | 1357053480000        \n",
      " duration          | 420000               \n",
      " pickup_borough    | Manhattan            \n",
      " dropoff_borough   | Manhattan            \n",
      "-RECORD 1---------------------------------\n",
      " medallion         | 0BD7C8F5BA12B88E0... \n",
      " hack_license      | 9FD8F69F0804BDB55... \n",
      " vendor_id         | CMT                  \n",
      " rate_code         | 1                    \n",
      " pickup_datetime   | 06-01-13 0:18        \n",
      " dropoff_datetime  | 06-01-13 0:22        \n",
      " passenger_count   | 1                    \n",
      " pickup_longitude  | -74.006683           \n",
      " pickup_latitude   | 40.731781            \n",
      " dropoff_longitude | -73.994499           \n",
      " dropoff_latitude  | 40.75066             \n",
      " pickup_ts         | 1357431480000        \n",
      " dropoff_ts        | 1357431720000        \n",
      " duration          | 240000               \n",
      " pickup_borough    | Manhattan            \n",
      " dropoff_borough   | Manhattan            \n",
      "-RECORD 2---------------------------------\n",
      " medallion         | 0BD7C8F5BA12B88E0... \n",
      " hack_license      | 9FD8F69F0804BDB55... \n",
      " vendor_id         | CMT                  \n",
      " rate_code         | 1                    \n",
      " pickup_datetime   | 05-01-13 18:49       \n",
      " dropoff_datetime  | 05-01-13 18:54       \n",
      " passenger_count   | 1                    \n",
      " pickup_longitude  | -74.004707           \n",
      " pickup_latitude   | 40.73777             \n",
      " dropoff_longitude | -74.009834           \n",
      " dropoff_latitude  | 40.726002            \n",
      " pickup_ts         | 1357411740000        \n",
      " dropoff_ts        | 1357412040000        \n",
      " duration          | 300000               \n",
      " pickup_borough    | Manhattan            \n",
      " dropoff_borough   | Manhattan            \n",
      "-RECORD 3---------------------------------\n",
      " medallion         | DFD2202EE08F7A8DC... \n",
      " hack_license      | 51EE87E3205C985EF... \n",
      " vendor_id         | CMT                  \n",
      " rate_code         | 1                    \n",
      " pickup_datetime   | 07-01-13 23:54       \n",
      " dropoff_datetime  | 07-01-13 23:58       \n",
      " passenger_count   | 2                    \n",
      " pickup_longitude  | -73.974602           \n",
      " pickup_latitude   | 40.759945            \n",
      " dropoff_longitude | -73.984734           \n",
      " dropoff_latitude  | 40.759388            \n",
      " pickup_ts         | 1357602840000        \n",
      " dropoff_ts        | 1357603080000        \n",
      " duration          | 240000               \n",
      " pickup_borough    | Manhattan            \n",
      " dropoff_borough   | Manhattan            \n",
      "-RECORD 4---------------------------------\n",
      " medallion         | DFD2202EE08F7A8DC... \n",
      " hack_license      | 51EE87E3205C985EF... \n",
      " vendor_id         | CMT                  \n",
      " rate_code         | 1                    \n",
      " pickup_datetime   | 07-01-13 23:25       \n",
      " dropoff_datetime  | 07-01-13 23:34       \n",
      " passenger_count   | 1                    \n",
      " pickup_longitude  | -73.97625            \n",
      " pickup_latitude   | 40.748528            \n",
      " dropoff_longitude | -74.002586           \n",
      " dropoff_latitude  | 40.747868            \n",
      " pickup_ts         | 1357601100000        \n",
      " dropoff_ts        | 1357601640000        \n",
      " duration          | 540000               \n",
      " pickup_borough    | Manhattan            \n",
      " dropoff_borough   | Manhattan            \n",
      "only showing top 5 rows\n",
      "\n"
     ]
    },
    {
     "name": "stderr",
     "output_type": "stream",
     "text": [
      "                                                                                \r"
     ]
    }
   ],
   "source": [
    "data_new = data_new.filter(col(\"pickup_borough\") != \"Unknown\")\n",
    "data_new = data_new.filter(col(\"dropoff_borough\") != \"Unknown\")\n",
    "data_new.show(5, truncate=True, vertical=True)"
   ]
  },
  {
   "cell_type": "markdown",
   "id": "99190033",
   "metadata": {},
   "source": [
    "#### We will remove records with negative duration and those exceeding 4 hours (14400000 milliseconds)\n"
   ]
  },
  {
   "cell_type": "code",
   "execution_count": 30,
   "id": "cee8319e",
   "metadata": {},
   "outputs": [
    {
     "name": "stderr",
     "output_type": "stream",
     "text": [
      "                                                                                \r"
     ]
    },
    {
     "name": "stdout",
     "output_type": "stream",
     "text": [
      "-RECORD 0---------------------------------\n",
      " medallion         | 89D227B655E5C82AE... \n",
      " hack_license      | BA96DE419E711691B... \n",
      " vendor_id         | CMT                  \n",
      " rate_code         | 1                    \n",
      " pickup_datetime   | 01-01-13 15:11       \n",
      " dropoff_datetime  | 01-01-13 15:18       \n",
      " passenger_count   | 4                    \n",
      " pickup_longitude  | -73.978165           \n",
      " pickup_latitude   | 40.757977            \n",
      " dropoff_longitude | -73.989838           \n",
      " dropoff_latitude  | 40.751171            \n",
      " pickup_ts         | 1357053060000        \n",
      " dropoff_ts        | 1357053480000        \n",
      " duration          | 420000               \n",
      " pickup_borough    | Manhattan            \n",
      " dropoff_borough   | Manhattan            \n",
      "-RECORD 1---------------------------------\n",
      " medallion         | 0BD7C8F5BA12B88E0... \n",
      " hack_license      | 9FD8F69F0804BDB55... \n",
      " vendor_id         | CMT                  \n",
      " rate_code         | 1                    \n",
      " pickup_datetime   | 06-01-13 0:18        \n",
      " dropoff_datetime  | 06-01-13 0:22        \n",
      " passenger_count   | 1                    \n",
      " pickup_longitude  | -74.006683           \n",
      " pickup_latitude   | 40.731781            \n",
      " dropoff_longitude | -73.994499           \n",
      " dropoff_latitude  | 40.75066             \n",
      " pickup_ts         | 1357431480000        \n",
      " dropoff_ts        | 1357431720000        \n",
      " duration          | 240000               \n",
      " pickup_borough    | Manhattan            \n",
      " dropoff_borough   | Manhattan            \n",
      "-RECORD 2---------------------------------\n",
      " medallion         | 0BD7C8F5BA12B88E0... \n",
      " hack_license      | 9FD8F69F0804BDB55... \n",
      " vendor_id         | CMT                  \n",
      " rate_code         | 1                    \n",
      " pickup_datetime   | 05-01-13 18:49       \n",
      " dropoff_datetime  | 05-01-13 18:54       \n",
      " passenger_count   | 1                    \n",
      " pickup_longitude  | -74.004707           \n",
      " pickup_latitude   | 40.73777             \n",
      " dropoff_longitude | -74.009834           \n",
      " dropoff_latitude  | 40.726002            \n",
      " pickup_ts         | 1357411740000        \n",
      " dropoff_ts        | 1357412040000        \n",
      " duration          | 300000               \n",
      " pickup_borough    | Manhattan            \n",
      " dropoff_borough   | Manhattan            \n",
      "-RECORD 3---------------------------------\n",
      " medallion         | DFD2202EE08F7A8DC... \n",
      " hack_license      | 51EE87E3205C985EF... \n",
      " vendor_id         | CMT                  \n",
      " rate_code         | 1                    \n",
      " pickup_datetime   | 07-01-13 23:54       \n",
      " dropoff_datetime  | 07-01-13 23:58       \n",
      " passenger_count   | 2                    \n",
      " pickup_longitude  | -73.974602           \n",
      " pickup_latitude   | 40.759945            \n",
      " dropoff_longitude | -73.984734           \n",
      " dropoff_latitude  | 40.759388            \n",
      " pickup_ts         | 1357602840000        \n",
      " dropoff_ts        | 1357603080000        \n",
      " duration          | 240000               \n",
      " pickup_borough    | Manhattan            \n",
      " dropoff_borough   | Manhattan            \n",
      "-RECORD 4---------------------------------\n",
      " medallion         | DFD2202EE08F7A8DC... \n",
      " hack_license      | 51EE87E3205C985EF... \n",
      " vendor_id         | CMT                  \n",
      " rate_code         | 1                    \n",
      " pickup_datetime   | 07-01-13 23:25       \n",
      " dropoff_datetime  | 07-01-13 23:34       \n",
      " passenger_count   | 1                    \n",
      " pickup_longitude  | -73.97625            \n",
      " pickup_latitude   | 40.748528            \n",
      " dropoff_longitude | -74.002586           \n",
      " dropoff_latitude  | 40.747868            \n",
      " pickup_ts         | 1357601100000        \n",
      " dropoff_ts        | 1357601640000        \n",
      " duration          | 540000               \n",
      " pickup_borough    | Manhattan            \n",
      " dropoff_borough   | Manhattan            \n",
      "only showing top 5 rows\n",
      "\n"
     ]
    },
    {
     "name": "stderr",
     "output_type": "stream",
     "text": [
      "[Stage 88:===========================================>              (3 + 1) / 4]\r"
     ]
    },
    {
     "name": "stdout",
     "output_type": "stream",
     "text": [
      " Number of data records after cleaning: 97507\n"
     ]
    },
    {
     "name": "stderr",
     "output_type": "stream",
     "text": [
      "                                                                                \r"
     ]
    }
   ],
   "source": [
    "# Filter the trips which has duration > 4x3600*1000 or < 0\n",
    "duration_threshold = 4*3600*1000 #(miliseconds)\n",
    "data_new_1 = data_new.filter(col(\"duration\") >= 0)\n",
    "data_new_1 = data_new_1.filter(col(\"duration\") < duration_threshold)\n",
    "data_new_1.show(5, truncate=True, vertical=True)\n",
    "print(f\" Number of data records after cleaning: {data_new_1.count()}\")"
   ]
  },
  {
   "cell_type": "markdown",
   "id": "31d703b9",
   "metadata": {},
   "source": [
    "### In each driver's case, remove the records where the pickup time occurs before the drop-off time of the preceding trip\n",
    "- we expect that the pickup time of a trip must occur after the drop-off time of the preceding trip. \n",
    "- This means a trip must be completed before another one can start. \n",
    "- Therefore, we sort the trips for each driver by their start time and then remove the records where the pickup time occurs before the drop-off time of the preceding trip and remove the records where the pickup time occurs before the drop-off time of the preceding trip\n"
   ]
  },
  {
   "cell_type": "code",
   "execution_count": 32,
   "id": "c0257e72",
   "metadata": {},
   "outputs": [],
   "source": [
    "# Sort data by pickup_time start time of each driver\n",
    "windowSpec = Window.partitionBy(\"hack_license\").orderBy(\"pickup_ts\")\n",
    "data_new_1 = data_new_1.withColumn(\"previous\", lag(col(\"dropoff_ts\")).over(windowSpec))\n",
    "\n",
    "# Remove trips where the next trip's pickup_time occurs before the previous trip's dropoff_time\n",
    "data_cleaned = data_new_1.filter(col(\"previous\").isNull() | (col(\"pickup_ts\") >= col(\"previous\")))\n"
   ]
  },
  {
   "cell_type": "code",
   "execution_count": null,
   "id": "7e435bbe",
   "metadata": {},
   "outputs": [],
   "source": [
    "data_cleaned.show(5, truncate=True, vertical=True)"
   ]
  },
  {
   "cell_type": "markdown",
   "id": "93fd609b",
   "metadata": {},
   "source": [
    "## Perform queries and compute\n",
    "\n",
    "- **Utilization**: This is per taxi/driver. This can be computed by computing the idle time per taxi\n",
    "**Computer idle time**"
   ]
  },
  {
   "cell_type": "code",
   "execution_count": 33,
   "id": "f8ab0a3b",
   "metadata": {},
   "outputs": [],
   "source": [
    "windowSpec = Window.partitionBy(\"hack_license\").orderBy(\"pickup_ts\")\n",
    "data_query_1 = data_cleaned.withColumn(\"previous\", lag(col(\"dropoff_ts\")).over(windowSpec))\n",
    "\n",
    "\n",
    "data_query_1 = data_query_1.withColumn(\"idle_time\", col(\"pickup_ts\") - col(\"previous\"))\n",
    "\n",
    "# Remove records with a waiting time greater than 4 hours\n",
    "threshold = 4*3600*1000\n",
    "data_final = data_query_1.filter(col(\"idle_time\") <= threshold)\n",
    "\n",
    "# computing the idle time per taxi\n",
    "result_q1_by_taxi = data_final.groupBy(\"hack_license\").agg({\"idle_time\": \"sum\"})\n",
    "\n",
    "# computing the idle time per borough\n",
    "result_q1_by_borough = data_final.groupBy(\"dropoff_borough\").agg({\"idle_time\": \"sum\"})"
   ]
  },
  {
   "cell_type": "code",
   "execution_count": null,
   "id": "1247e131",
   "metadata": {},
   "outputs": [
    {
     "name": "stderr",
     "output_type": "stream",
     "text": [
      "[Stage 101:==============>                                          (1 + 3) / 4]\r"
     ]
    }
   ],
   "source": [
    "result_q1_by_taxi.show()"
   ]
  },
  {
   "cell_type": "code",
   "execution_count": null,
   "id": "d73ba321",
   "metadata": {},
   "outputs": [],
   "source": [
    "result_q1_by_borough.show()"
   ]
  },
  {
   "cell_type": "markdown",
   "id": "a1246b71",
   "metadata": {},
   "source": [
    "### Compute 2: \n",
    "- **The average time** it takes for a taxi to find its next fare(trip) per destination borough. This is can be computed by finding the difference of time, e.g. in seconds, between the drop off a trip and the pick up of the next trip."
   ]
  },
  {
   "cell_type": "code",
   "execution_count": 38,
   "id": "4ad7e838",
   "metadata": {},
   "outputs": [],
   "source": [
    "# Calculate the average waiting time for each destination district\n",
    "average_wait_time = data_query_1.groupBy(\"dropoff_borough\") \\\n",
    "                             .agg({\"idle_time\": \"avg\"}) \\\n",
    "                             .withColumnRenamed(\"avg(idle_time)\", \"average_wait_time\")\n"
   ]
  },
  {
   "cell_type": "code",
   "execution_count": null,
   "id": "3e49f734",
   "metadata": {},
   "outputs": [],
   "source": [
    "average_wait_time.show()"
   ]
  },
  {
   "cell_type": "markdown",
   "id": "553137ac",
   "metadata": {},
   "source": [
    "### Compute 3 and 4: \n",
    "- The number of trips that started and ended within the **same borough**\n",
    "- The number of trips that started in one borough and ended in another one"
   ]
  },
  {
   "cell_type": "code",
   "execution_count": 36,
   "id": "9dd56ff6",
   "metadata": {},
   "outputs": [
    {
     "name": "stderr",
     "output_type": "stream",
     "text": [
      "[Stage 98:===========================================>              (3 + 1) / 4]\r"
     ]
    },
    {
     "name": "stdout",
     "output_type": "stream",
     "text": [
      "Number of trips that started and ended within the same borough: 77621\n",
      "Number of trips that started in one borough and ended in another one: 8486\n"
     ]
    },
    {
     "name": "stderr",
     "output_type": "stream",
     "text": [
      "                                                                                \r"
     ]
    }
   ],
   "source": [
    "# Compute 1: \n",
    "# The number of trips that started and ended within the same borough\n",
    "same_borough_trips = data_final.filter(col(\"pickup_borough\") == col(\"dropoff_borough\")).count()\n",
    "\n",
    "# The number of trips that started in one borough and ended in another one\n",
    "different_borough_trips = data_final.filter(col(\"pickup_borough\") != col(\"dropoff_borough\")).count()\n",
    "\n",
    "# Show result\n",
    "print(\"Number of trips that started and ended within the same borough:\", same_borough_trips)\n",
    "print(\"Number of trips that started in one borough and ended in another one:\", different_borough_trips)"
   ]
  },
  {
   "cell_type": "code",
   "execution_count": null,
   "id": "19376127",
   "metadata": {},
   "outputs": [],
   "source": []
  }
 ],
 "metadata": {
  "kernelspec": {
   "display_name": "Python 3 (ipykernel)",
   "language": "python",
   "name": "python3"
  },
  "language_info": {
   "codemirror_mode": {
    "name": "ipython",
    "version": 3
   },
   "file_extension": ".py",
   "mimetype": "text/x-python",
   "name": "python",
   "nbconvert_exporter": "python",
   "pygments_lexer": "ipython3",
   "version": "3.9.2"
  }
 },
 "nbformat": 4,
 "nbformat_minor": 5
}
